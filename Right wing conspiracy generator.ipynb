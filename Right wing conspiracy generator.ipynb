{
 "cells": [
  {
   "cell_type": "code",
   "execution_count": 99,
   "metadata": {},
   "outputs": [
    {
     "name": "stdout",
     "output_type": "stream",
     "text": [
      "Aliens are using crisis actors to feminize Christianity .\n"
     ]
    }
   ],
   "source": [
    "#Stupid right wing conspiracy generator. Cringe.\n",
    "#LWG = Left Wing Group (or person)\n",
    "#LWO = Left Wing Object (Hunter Biden's laptop or Hillary Clinton's emails)\n",
    "#I don't need to clarify what verb is.\n",
    "#Right Wing Object is the most varied, can be a person or thing\n",
    "#Mot is motive, like \"because he hates happiness\" or \"to kill the western family\". Skipping for now to set this up.\n",
    "import random\n",
    "LWG = 0\n",
    "LWO = 0\n",
    "VERB = 0\n",
    "RWO = 0 \n",
    "MOT = 0\n",
    "inp = 0\n",
    "\n",
    "LWG = random.choice(['Barack Obama is','Joe Biden is', 'Bill Gates is', 'Big Pharma is', 'Hillary Clinton is', 'Trans People are', 'Gay People are', 'Mexicans are', 'Immigrants are', 'Liberals are', 'Aliens are', 'Terrorists are', 'Muslims are', 'Godless Atheists are', 'Satanists are', 'Netflix is', 'Antifa is', 'Commies are', 'Bill Nye'])\n",
    "LWO = random.choice(['Hunter Bidens Laptop', 'Hillary Clintons Emails', 'Jewish Space Lasers', 'vaccines', 'Covid-19', 'masks', 'chemicals', 'drag shows', 'planted evidence', 'videogames', 'ticktock', 'social media', 'drugs', 'dark Rituals', 'gun bans', 'abortions', 'crisis actors', 'CRT'])\n",
    "VERB = random.choice(['kill', 'feminize', 'eradicate', 'brainwash', 'destroy', 'doxx', 'microchip', 'scare', 'groom', 'own', 'enslave', 'usurp', 'impoverish', 'mislead', 'rob', 'infiltrate'])\n",
    "RWO = random.choice(['Donald Trump', 'Conservatives', 'God', 'Christianity', 'the children', 'frogs', 'guns', 'jokes', 'straight men', 'the film industry','joy', 'Comedians', 'golf', 'football', 'happy families', 'millionaires', 'billionaires', 'traditional wives', 'traditional values', 'J.K. Rowling', 'Second Amendment Rights'])\n",
    "MOT = random.choice (['to destroy america.', 'to take over the world.', 'because they hate happiness.', 'to hide the truth.', 'to track us.', 'to destroy traditional values.', 'to steal our children.', 'to commit crimes.', '.', 'to make themselves rich.', 'to steal from us.', ])\n",
    "\n",
    "inp = input('Do you want a motive? (yes or no)')\n",
    "if inp == ('yes'):\n",
    "    print(LWG, 'using', LWO, 'to', VERB, RWO, MOT)\n",
    "else:\n",
    "    print(LWG, 'using', LWO, 'to', VERB, RWO,'.')"
   ]
  },
  {
   "cell_type": "code",
   "execution_count": null,
   "metadata": {},
   "outputs": [],
   "source": []
  },
  {
   "cell_type": "code",
   "execution_count": null,
   "metadata": {},
   "outputs": [],
   "source": []
  }
 ],
 "metadata": {
  "kernelspec": {
   "display_name": "Python 3.10.6 64-bit",
   "language": "python",
   "name": "python3"
  },
  "language_info": {
   "codemirror_mode": {
    "name": "ipython",
    "version": 3
   },
   "file_extension": ".py",
   "mimetype": "text/x-python",
   "name": "python",
   "nbconvert_exporter": "python",
   "pygments_lexer": "ipython3",
   "version": "3.10.6"
  },
  "orig_nbformat": 4,
  "vscode": {
   "interpreter": {
    "hash": "aecb84c6e9b28468bbdb20658c528c3dc561f4bfe341e572572258a058312940"
   }
  }
 },
 "nbformat": 4,
 "nbformat_minor": 2
}
